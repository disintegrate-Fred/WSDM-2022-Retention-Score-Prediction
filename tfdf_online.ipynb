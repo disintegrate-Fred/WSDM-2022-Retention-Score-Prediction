{
 "cells": [
  {
   "cell_type": "code",
   "execution_count": 1,
   "id": "3b328e94",
   "metadata": {},
   "outputs": [
    {
     "name": "stderr",
     "output_type": "stream",
     "text": [
      "WARNING:root:TF Parameter Server distributed training not available (this is expected for the pre-build release).\n"
     ]
    }
   ],
   "source": [
    "import numpy as np\n",
    "import pandas as pd\n",
    "\n",
    "import tensorflow_decision_forests as tfdf\n",
    "\n",
    "import warnings\n",
    "warnings.filterwarnings(\"ignore\")"
   ]
  },
  {
   "cell_type": "code",
   "execution_count": 2,
   "id": "eff4a6bb",
   "metadata": {},
   "outputs": [],
   "source": [
    "def score(res,label,pre):\n",
    "    res['diff'] = abs((res[pre]-res[label])/7)\n",
    "    s = 1-sum(res['diff'])/len(res)\n",
    "    return s\n",
    "\n",
    "def get_label(row):\n",
    "    max_date = row['date_max']\n",
    "    min_date = row['date_min']\n",
    "    date = row['date']\n",
    "    date_list = row['date_list']\n",
    "    \n",
    "    if date+7 <= max_date:\n",
    "        return sum([1 for x in set(date_list) if date < x < date+8])\n",
    "    else:\n",
    "        if date>153:\n",
    "            if row['user_id'] not in user_enddate:\n",
    "                return -999\n",
    "            else:\n",
    "                if user_enddate[row['user_id']] < date+7:\n",
    "                    return -999\n",
    "                else:\n",
    "                    return sum([1 for x in set(date_list) if date < x < date+8])\n",
    "        elif date<130:\n",
    "            return -999\n",
    "        else:\n",
    "            return sum([1 for x in set(date_list) if date < x < date+8])\n",
    "        \n",
    "def extend_list(row):\n",
    "    date_min = row['date_min']\n",
    "    date_max = row['date_max']\n",
    "    \n",
    "    if row['user_id'] in user_enddate:\n",
    "        end_date = user_enddate[row['user_id']]\n",
    "        return list(set([x for x in range(date_min-1, end_date-6)]+interval))\n",
    "    else:\n",
    "        return list(set([x for x in range(date_min-1, date_max-6)]+interval))\n",
    "    \n",
    "    \n",
    "def get_date_list(row):\n",
    "    ls = row['date_list']\n",
    "    end_date = row['date']\n",
    "    \n",
    "    ls_new = [x for x in ls if x<=end_date]\n",
    "    return ls_new"
   ]
  },
  {
   "cell_type": "code",
   "execution_count": 3,
   "id": "abf75e4a",
   "metadata": {},
   "outputs": [],
   "source": [
    "interval = [x for x in range(131,154)]"
   ]
  },
  {
   "cell_type": "code",
   "execution_count": 4,
   "id": "935bb9df",
   "metadata": {},
   "outputs": [],
   "source": [
    "df = pd.read_csv('data/app_launch_logs.csv')\n",
    "test_a = pd.read_csv('data/test_B数据集.csv')\n",
    "\n",
    "test = pd.read_csv('data/test_B数据集.csv')\n",
    "test.columns = ['user_id','date']"
   ]
  },
  {
   "cell_type": "code",
   "execution_count": 5,
   "id": "26133fcb",
   "metadata": {},
   "outputs": [],
   "source": [
    "df = df.sort_values(['user_id','date']).reset_index(drop=True)\n",
    "df = df[['user_id','date']].drop_duplicates().reset_index(drop=True)\n",
    "df = df[df['user_id'].isin(test_a['user_id'])]"
   ]
  },
  {
   "cell_type": "code",
   "execution_count": 6,
   "id": "79ce12c0",
   "metadata": {},
   "outputs": [],
   "source": [
    "df_group = df.groupby('user_id').agg(list).reset_index()\n",
    "df_group['date_max'] = df_group['date'].apply(lambda x: max(x))\n",
    "df_group['date_min'] = df_group['date'].apply(lambda x: min(x))\n",
    "user_enddate = dict(zip(test_a['user_id'],test_a['end_date']))"
   ]
  },
  {
   "cell_type": "code",
   "execution_count": 7,
   "id": "1c47a240",
   "metadata": {},
   "outputs": [],
   "source": [
    "df_group['date_all'] = df_group.apply(extend_list, axis=1)"
   ]
  },
  {
   "cell_type": "code",
   "execution_count": 8,
   "id": "df174868",
   "metadata": {},
   "outputs": [],
   "source": [
    "df_ = df_group.explode('date_all')\n",
    "df_.rename(columns = {'date':'date_list','date_all':'date'},inplace=True)"
   ]
  },
  {
   "cell_type": "code",
   "execution_count": 9,
   "id": "b3bbc4db",
   "metadata": {},
   "outputs": [],
   "source": [
    "df_['label'] = df_.apply(get_label, axis=1)"
   ]
  },
  {
   "cell_type": "code",
   "execution_count": 10,
   "id": "dd16416b",
   "metadata": {},
   "outputs": [],
   "source": [
    "train = df_[df_['label']!=-999]"
   ]
  },
  {
   "cell_type": "code",
   "execution_count": null,
   "id": "8d33770c",
   "metadata": {},
   "outputs": [],
   "source": []
  },
  {
   "cell_type": "code",
   "execution_count": 11,
   "id": "e252a7a0",
   "metadata": {},
   "outputs": [],
   "source": [
    "train_pb = pd.read_csv('features/online_train_pb.csv')\n",
    "train = pd.merge(train, train_pb, how='left')\n",
    "\n",
    "test_pb = pd.read_csv('features/online_test_pb.csv')\n",
    "test = pd.merge(test, test_pb, how='left')"
   ]
  },
  {
   "cell_type": "code",
   "execution_count": 12,
   "id": "9f4e4e2f",
   "metadata": {},
   "outputs": [],
   "source": [
    "user_trait = pd.read_csv('features/user_trait_feature.csv')\n",
    "\n",
    "train = pd.merge(train, user_trait, how='left')\n",
    "test = pd.merge(test, user_trait, how='left')"
   ]
  },
  {
   "cell_type": "code",
   "execution_count": 13,
   "id": "5da03659",
   "metadata": {},
   "outputs": [],
   "source": [
    "launch_train = pd.read_csv('features/launch_online_train.csv')\n",
    "train = pd.merge(train, launch_train, how='left')\n",
    "\n",
    "launch_test = pd.read_csv('features/launch_online_test.csv')\n",
    "test = pd.merge(test, launch_test, how='left')"
   ]
  },
  {
   "cell_type": "code",
   "execution_count": 14,
   "id": "ba20bf97",
   "metadata": {},
   "outputs": [],
   "source": [
    "train['week'] = train['date'].apply(lambda x: (x-130)%7+1)\n",
    "test['week'] = test['date'].apply(lambda x: (x-130)%7+1)"
   ]
  },
  {
   "cell_type": "code",
   "execution_count": null,
   "id": "97cf5a19",
   "metadata": {},
   "outputs": [],
   "source": []
  },
  {
   "cell_type": "code",
   "execution_count": 29,
   "id": "3f9d677c",
   "metadata": {},
   "outputs": [],
   "source": [
    "feats = ['playtime_last0', 'video_count_last0', 'playtime_last1', 'video_count_last1', 'playtime_last2', 'video_count_last2',\n",
    "         'playtime_last3', 'video_count_last3', 'playtime_last4', 'video_count_last4', 'playtime_last5', 'video_count_last5',\n",
    "         'playtime_last6', 'video_count_last6', 'playtime_last7', 'video_count_last7', 'device_type', 'sex','age', 'education',\n",
    "         'occupation_status','device_ram_new','device_rom_new','diff_near','is_launch','launch_type_new',\n",
    "         'launchNum','NumLastWeek','preds_median_30',\n",
    "         'preds_mean_4','preds_mean_4_weighted','weighted_median','week']"
   ]
  },
  {
   "cell_type": "code",
   "execution_count": 30,
   "id": "1d664357",
   "metadata": {},
   "outputs": [
    {
     "name": "stderr",
     "output_type": "stream",
     "text": [
      "2022-01-22 16:24:26.676240: I tensorflow/stream_executor/cuda/cuda_gpu_executor.cc:939] successful NUMA node read from SysFS had negative value (-1), but there must be at least one NUMA node, so returning NUMA node zero\n",
      "2022-01-22 16:24:26.709396: I tensorflow/stream_executor/cuda/cuda_gpu_executor.cc:939] successful NUMA node read from SysFS had negative value (-1), but there must be at least one NUMA node, so returning NUMA node zero\n",
      "2022-01-22 16:24:26.709731: I tensorflow/stream_executor/cuda/cuda_gpu_executor.cc:939] successful NUMA node read from SysFS had negative value (-1), but there must be at least one NUMA node, so returning NUMA node zero\n",
      "2022-01-22 16:24:26.710670: I tensorflow/core/platform/cpu_feature_guard.cc:151] This TensorFlow binary is optimized with oneAPI Deep Neural Network Library (oneDNN) to use the following CPU instructions in performance-critical operations:  AVX2 FMA\n",
      "To enable them in other operations, rebuild TensorFlow with the appropriate compiler flags.\n",
      "2022-01-22 16:24:26.711059: I tensorflow/stream_executor/cuda/cuda_gpu_executor.cc:939] successful NUMA node read from SysFS had negative value (-1), but there must be at least one NUMA node, so returning NUMA node zero\n",
      "2022-01-22 16:24:26.711336: I tensorflow/stream_executor/cuda/cuda_gpu_executor.cc:939] successful NUMA node read from SysFS had negative value (-1), but there must be at least one NUMA node, so returning NUMA node zero\n",
      "2022-01-22 16:24:26.711589: I tensorflow/stream_executor/cuda/cuda_gpu_executor.cc:939] successful NUMA node read from SysFS had negative value (-1), but there must be at least one NUMA node, so returning NUMA node zero\n",
      "2022-01-22 16:24:27.133210: I tensorflow/stream_executor/cuda/cuda_gpu_executor.cc:939] successful NUMA node read from SysFS had negative value (-1), but there must be at least one NUMA node, so returning NUMA node zero\n",
      "2022-01-22 16:24:27.133489: I tensorflow/stream_executor/cuda/cuda_gpu_executor.cc:939] successful NUMA node read from SysFS had negative value (-1), but there must be at least one NUMA node, so returning NUMA node zero\n",
      "2022-01-22 16:24:27.133728: I tensorflow/stream_executor/cuda/cuda_gpu_executor.cc:939] successful NUMA node read from SysFS had negative value (-1), but there must be at least one NUMA node, so returning NUMA node zero\n",
      "2022-01-22 16:24:27.133962: I tensorflow/core/common_runtime/gpu/gpu_device.cc:1525] Created device /job:localhost/replica:0/task:0/device:GPU:0 with 6018 MB memory:  -> device: 0, name: NVIDIA GeForce RTX 3060, pci bus id: 0000:2b:00.0, compute capability: 8.6\n"
     ]
    }
   ],
   "source": [
    "train_df = train[feats+['label']]\n",
    "train_ds = tfdf.keras.pd_dataframe_to_tf_dataset(train_df, label=\"label\",task = tfdf.keras.Task.REGRESSION)"
   ]
  },
  {
   "cell_type": "code",
   "execution_count": null,
   "id": "18278b36",
   "metadata": {},
   "outputs": [],
   "source": []
  },
  {
   "cell_type": "code",
   "execution_count": 31,
   "id": "de40798a",
   "metadata": {},
   "outputs": [
    {
     "name": "stdout",
     "output_type": "stream",
     "text": [
      "Use /tmp/tmp_q7nm_1k as temporary training directory\n",
      "Starting reading the dataset\n",
      "3210/3214 [============================>.] - ETA: 0s\n",
      "Dataset read in 0:00:24.924314\n",
      "Training model\n",
      "Model trained in 0:30:28.543561\n",
      "Compiling model\n",
      "3214/3214 [==============================] - 1854s 576ms/step\n"
     ]
    },
    {
     "data": {
      "text/plain": [
       "<keras.callbacks.History at 0x7ff42b206b80>"
      ]
     },
     "execution_count": 31,
     "metadata": {},
     "output_type": "execute_result"
    }
   ],
   "source": [
    "model = tfdf.keras.GradientBoostedTreesModel(task = tfdf.keras.Task.REGRESSION, max_depth = 6, num_trees=500, min_examples=500,\n",
    "                                    l1_regularization=0.1, l2_regularization=0.1, subsample=0.8)\n",
    "model.fit(train_ds)"
   ]
  },
  {
   "cell_type": "code",
   "execution_count": null,
   "id": "1e1f264b",
   "metadata": {},
   "outputs": [],
   "source": []
  },
  {
   "cell_type": "code",
   "execution_count": 32,
   "id": "24b362f5",
   "metadata": {},
   "outputs": [],
   "source": [
    "test['label'] = -1\n",
    "test_df = test[feats+['label']]\n",
    "test_ds = tfdf.keras.pd_dataframe_to_tf_dataset(test_df, label=\"label\",task = tfdf.keras.Task.REGRESSION)"
   ]
  },
  {
   "cell_type": "code",
   "execution_count": 33,
   "id": "7cbce240",
   "metadata": {},
   "outputs": [],
   "source": [
    "y_pred = model.predict(test_ds)\n",
    "test['pre_gbt'] = y_pred.squeeze()"
   ]
  },
  {
   "cell_type": "code",
   "execution_count": 34,
   "id": "8a6b7cdb",
   "metadata": {},
   "outputs": [],
   "source": [
    "test[['user_id','pre_gbt']].to_csv('res/tfdf_gbt_online.csv',index=False)"
   ]
  },
  {
   "cell_type": "code",
   "execution_count": null,
   "id": "53e22a80",
   "metadata": {},
   "outputs": [],
   "source": []
  },
  {
   "cell_type": "code",
   "execution_count": null,
   "id": "241e0883",
   "metadata": {},
   "outputs": [],
   "source": []
  }
 ],
 "metadata": {
  "kernelspec": {
   "display_name": "Python 3 (ipykernel)",
   "language": "python",
   "name": "python3"
  },
  "language_info": {
   "codemirror_mode": {
    "name": "ipython",
    "version": 3
   },
   "file_extension": ".py",
   "mimetype": "text/x-python",
   "name": "python",
   "nbconvert_exporter": "python",
   "pygments_lexer": "ipython3",
   "version": "3.9.7"
  }
 },
 "nbformat": 4,
 "nbformat_minor": 5
}
